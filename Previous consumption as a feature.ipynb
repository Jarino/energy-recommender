{
 "cells": [
  {
   "cell_type": "code",
   "execution_count": 2,
   "metadata": {
    "collapsed": true
   },
   "outputs": [],
   "source": [
    "from datetime import datetime\n",
    "from datetime import timedelta\n",
    "import os\n",
    "\n",
    "import numpy as np\n",
    "import pandas as pd\n",
    "from sklearn import svm\n",
    "from sklearn.ensemble import RandomForestRegressor\n",
    "import matplotlib.pyplot as plt\n",
    "%matplotlib inline\n",
    "\n",
    "from prediction import helpers\n",
    "from prediction.predictor import Predictor\n",
    "import utils.data as dutils"
   ]
  },
  {
   "cell_type": "markdown",
   "metadata": {},
   "source": [
    "Load dataset, add new feauters upon which we will experiment and split to train and test."
   ]
  },
  {
   "cell_type": "code",
   "execution_count": 5,
   "metadata": {
    "collapsed": false
   },
   "outputs": [],
   "source": [
    "# start day\n",
    "START_DAY = datetime(2015,1,1)\n",
    "WINDOW = timedelta(days=14)\n",
    "EVAL_DAYS = 365\n",
    "\n",
    "# get list of all user datasets\n",
    "PATH = '.exports/user_data_joined'\n",
    "USER_PATHS = [os.path.join(PATH, x) for x in os.listdir(PATH)]"
   ]
  },
  {
   "cell_type": "markdown",
   "metadata": {},
   "source": [
    "## SVR\n",
    "\n",
    "First of all, lets do the baseline without added features:"
   ]
  },
  {
   "cell_type": "code",
   "execution_count": 15,
   "metadata": {
    "collapsed": false
   },
   "outputs": [
    {
     "name": "stdout",
     "output_type": "stream",
     "text": [
      "Processing user: 1, 2, 3, \n",
      "\n",
      "MASE:\t1.300935,\t2.957778\n",
      "MSE:\t0.553004,\t0.596614\n",
      "RMSE:\t0.639341,\t0.379799\n",
      "MAE:\t0.409388,\t0.236613\n"
     ]
    }
   ],
   "source": [
    "prd = Predictor('spotreba', ['month', 'weekday', 'hour'], svm.SVR)\n",
    "\n",
    "results = []\n",
    "\n",
    "\n",
    "print('Processing user: ', end='')\n",
    "for index, user_path in enumerate(USER_PATHS[0:3]):\n",
    "    data = pd.read_csv(user_path)\n",
    "    data = dutils.add_artificial_features(data, 'spotreba')\n",
    "    print('%d' % (index + 1), end=', ')\n",
    "    \n",
    "    for i in range(0, EVAL_DAYS):\n",
    "        eval_day = START_DAY + timedelta(days=i)\n",
    "\n",
    "        train_data = dutils.select_range(data, eval_day - WINDOW - timedelta(days=1), eval_day - timedelta(days=1))\n",
    "        test_data = dutils.select_range(data, eval_day, eval_day)\n",
    "\n",
    "        prd.train(train_data)\n",
    "\n",
    "        predicted = prd.predict(test_data)\n",
    "\n",
    "        results.append(prd.eval(predicted, test_data, train_data))\n",
    "\n",
    "print('\\n')\n",
    "        \n",
    "helpers.print_evaluations(results)"
   ]
  },
  {
   "cell_type": "markdown",
   "metadata": {},
   "source": [
    "## RandomForest"
   ]
  },
  {
   "cell_type": "code",
   "execution_count": 22,
   "metadata": {
    "collapsed": false
   },
   "outputs": [
    {
     "name": "stdout",
     "output_type": "stream",
     "text": [
      "Processing user: 1, 2, 3, \n",
      "\n",
      "MASE:\t1.374538,\t2.824779\n",
      "MSE:\t0.657955,\t0.651956\n",
      "RMSE:\t0.707657,\t0.396455\n",
      "MAE:\t0.451952,\t0.267850\n"
     ]
    }
   ],
   "source": [
    "prd = Predictor('spotreba', ['month', 'weekday', 'hour'], RandomForestRegressor, {\n",
    "        'n_estimators': 20,\n",
    "        'max_features': 'log2'\n",
    "    })\n",
    "\n",
    "results = []\n",
    "\n",
    "print('Processing user: ', end='')\n",
    "for index, user_path in enumerate(USER_PATHS[0:3]):\n",
    "    \n",
    "    data = pd.read_csv(user_path)\n",
    "    data = dutils.add_artificial_features(data, 'spotreba')\n",
    "    \n",
    "    print('%d' % (index + 1), end=', ')\n",
    "    \n",
    "    for i in range(0, EVAL_DAYS):\n",
    "        eval_day = START_DAY + timedelta(days=i)\n",
    "\n",
    "        train_data = dutils.select_range(data, eval_day - WINDOW - timedelta(days=1), eval_day - timedelta(days=1))\n",
    "        test_data = dutils.select_range(data, eval_day, eval_day)\n",
    "\n",
    "        prd.train(train_data)\n",
    "\n",
    "        predicted = prd.predict(test_data)\n",
    "\n",
    "        results.append(prd.eval(predicted, test_data, train_data))\n",
    "\n",
    "print('\\n')\n",
    "helpers.print_evaluations(results)"
   ]
  },
  {
   "cell_type": "markdown",
   "metadata": {
    "collapsed": true
   },
   "source": [
    "# First difference"
   ]
  },
  {
   "cell_type": "code",
   "execution_count": null,
   "metadata": {
    "collapsed": false
   },
   "outputs": [],
   "source": [
    "prd = Predictor('spotreba', ['month', 'weekday', 'hour', 'diff'])\n",
    "\n",
    "results = []\n",
    "\n",
    "for index, user_path in enumerate(user_paths[0:10]):\n",
    "    data = load_data(user_path)\n",
    "    print('Processing user %d' % index)\n",
    "\n",
    "    for i in range(0, eval_days):\n",
    "        eval_day = start_day + timedelta(days=i)\n",
    "        train_data = dutils.select_range(data, eval_day - window - timedelta(days=1), eval_day - timedelta(days=1))\n",
    "        test_data = dutils.select_range(data, eval_day, eval_day)\n",
    "\n",
    "        prd.train(train_data)\n",
    "\n",
    "        test_data_dyn = test_data.copy()\n",
    "        predicted_day = []\n",
    "\n",
    "        for index, row in test_data_dyn.iterrows():\n",
    "            row['diff'] = test_data_dyn.loc[index, 'diff']\n",
    "            predicted = prd.predict(row)\n",
    "            test_data_dyn.loc[index, 'spotreba'] = predicted[0]\n",
    "            try:\n",
    "                test_data_dyn.loc[index+1, 'diff'] = test_data_dyn.loc[index-1]['spotreba'] - test_data_dyn.loc[index-2]['spotreba']\n",
    "            except KeyError:\n",
    "                pass\n",
    "                #print('este sa neda')\n",
    "            predicted_day.append(predicted[0])\n",
    "\n",
    "        results.append(prd.eval(np.array(predicted_day), test_data))\n",
    "    \n",
    "helpers.print_evaluations(results)"
   ]
  },
  {
   "cell_type": "markdown",
   "metadata": {},
   "source": [
    "# Second difference"
   ]
  },
  {
   "cell_type": "code",
   "execution_count": null,
   "metadata": {
    "collapsed": false
   },
   "outputs": [],
   "source": [
    "prd = Predictor('spotreba', ['month', 'weekday', 'hour', 'diff', 'diff2'])\n",
    "\n",
    "results = []\n",
    "\n",
    "for index, user_path in enumerate(user_paths[0:10]):\n",
    "    data = load_data(user_path)\n",
    "    print('Processing user %d' % index)\n",
    "\n",
    "    for i in range(0, eval_days):\n",
    "        eval_day = start_day + timedelta(days=i)\n",
    "\n",
    "        train_data = dutils.select_range(data, eval_day - window - timedelta(days=1), eval_day - timedelta(days=1))\n",
    "        test_data = dutils.select_range(data, eval_day, eval_day)\n",
    "\n",
    "        prd.train(train_data)\n",
    "\n",
    "        test_data_dyn = test_data.copy()\n",
    "        predicted_day = []\n",
    "\n",
    "        for index, row in test_data_dyn.iterrows():\n",
    "            row['diff'] = test_data_dyn.loc[index, 'diff']\n",
    "            row['diff2'] = test_data_dyn.loc[index, 'diff2']\n",
    "\n",
    "            predicted = prd.predict(row)\n",
    "\n",
    "            test_data_dyn.loc[index, 'spotreba'] = predicted[0]\n",
    "\n",
    "            try:\n",
    "                test_data_dyn.loc[index+1, 'diff'] = test_data_dyn.loc[index-1]['spotreba'] - test_data_dyn.loc[index-2]['spotreba']\n",
    "                test_data_dyn.loc[index+1, 'diff2'] = test_data_dyn.loc[index+1]['diff'] - test_data_dyn.loc[index-2]['spotreba'] - test_data_dyn.loc[index-3]['spotreba']\n",
    "            except KeyError:\n",
    "                #print('este sa neda')\n",
    "                pass\n",
    "            predicted_day.append(predicted[0])\n",
    "\n",
    "        results.append(prd.eval(np.array(predicted_day), test_data))\n",
    "\n",
    "helpers.print_evaluations(results)"
   ]
  },
  {
   "cell_type": "markdown",
   "metadata": {},
   "source": [
    "# Previous hour consumption"
   ]
  },
  {
   "cell_type": "code",
   "execution_count": null,
   "metadata": {
    "collapsed": false
   },
   "outputs": [],
   "source": [
    "prd = Predictor('spotreba',  ['month', 'weekday', 'hour', 'prev_con'])\n",
    "\n",
    "results = []\n",
    "\n",
    "for index, user_path in enumerate(user_paths[0:10]):\n",
    "    data = load_data(user_path)\n",
    "    print('Processing user %d' % index)\n",
    "\n",
    "    for i in range(0, eval_days):\n",
    "        eval_day = start_day + timedelta(days=i)\n",
    "\n",
    "        train_data = dutils.select_range(data, eval_day - window - timedelta(days=1), eval_day - timedelta(days=1))\n",
    "        test_data = dutils.select_range(data, eval_day, eval_day)\n",
    "\n",
    "        prd.train(train_data)\n",
    "\n",
    "        test_data_dyn = test_data.copy()\n",
    "        predicted_day = []\n",
    "\n",
    "        for index, row in test_data_dyn.iterrows():\n",
    "            row['prev_con'] = test_data_dyn.loc[index, 'prev_con']\n",
    "            predicted = prd.predict(row)\n",
    "            test_data_dyn.loc[index, 'spotreba'] = predicted[0]\n",
    "            try:\n",
    "                test_data_dyn.loc[index+1, 'prev_con'] = predicted[0]\n",
    "            except KeyError:\n",
    "                print('este sa neda')\n",
    "            predicted_day.append(predicted[0])\n",
    "\n",
    "        results.append(prd.eval(np.array(predicted_day), test_data))\n",
    "    \n",
    "helpers.print_evaluations(results)"
   ]
  },
  {
   "cell_type": "markdown",
   "metadata": {},
   "source": [
    "# Previous 2 hours consumption"
   ]
  },
  {
   "cell_type": "code",
   "execution_count": null,
   "metadata": {
    "collapsed": false
   },
   "outputs": [],
   "source": [
    "prd = Predictor('spotreba',  ['month', 'weekday', 'hour', 'prev_con', 'prev_con2'])\n",
    "\n",
    "results = []\n",
    "\n",
    "\n",
    "for index, user_path in enumerate(user_paths[0:10]):\n",
    "    data = load_data(user_path)\n",
    "    print('Processing user %d' % index)\n",
    "\n",
    "\n",
    "    for i in range(0, eval_days):\n",
    "        eval_day = start_day + timedelta(days=i)\n",
    "\n",
    "        train_data = dutils.select_range(data, eval_day - window - timedelta(days=1), eval_day - timedelta(days=1))\n",
    "        test_data = dutils.select_range(data, eval_day, eval_day)\n",
    "\n",
    "        prd.train(train_data)\n",
    "\n",
    "        test_data_dyn = test_data.copy()\n",
    "        predicted_day = []\n",
    "\n",
    "        for index, row in test_data_dyn.iterrows():\n",
    "            row['prev_con'] = test_data_dyn.loc[index, 'prev_con']\n",
    "            row['prev_con2'] = test_data_dyn.loc[index, 'prev_con2']\n",
    "            predicted = prd.predict(row)\n",
    "            test_data_dyn.loc[index, 'spotreba'] = predicted[0]\n",
    "            try:\n",
    "                test_data_dyn.loc[index+1, 'prev_con'] = predicted[0]\n",
    "                test_data_dyn.loc[index+2, 'prev_con2'] = predicted[0]\n",
    "            except KeyError:\n",
    "                print('este sa neda')\n",
    "            predicted_day.append(predicted[0])\n",
    "\n",
    "        results.append(prd.eval(np.array(predicted_day), test_data))\n",
    "    \n",
    "helpers.print_evaluations(results)"
   ]
  },
  {
   "cell_type": "code",
   "execution_count": null,
   "metadata": {
    "collapsed": false
   },
   "outputs": [],
   "source": [
    "prd = Predictor('spotreba',  ['month', 'weekday', 'hour', 'prev_con', 'prev_con2', 'prev_con3'])\n",
    "\n",
    "results = []\n",
    "\n",
    "for index, user_path in enumerate(user_paths[0:10]):\n",
    "    data = load_data(user_path)\n",
    "    print('Processing user %d' % index)\n",
    "\n",
    "    for i in range(0, eval_days):\n",
    "        eval_day = start_day + timedelta(days=i)\n",
    "\n",
    "        train_data = dutils.select_range(data, eval_day - window - timedelta(days=1), eval_day - timedelta(days=1))\n",
    "        test_data = dutils.select_range(data, eval_day, eval_day)\n",
    "\n",
    "        prd.train(train_data)\n",
    "\n",
    "        test_data_dyn = test_data.copy()\n",
    "        predicted_day = []\n",
    "\n",
    "        for index, row in test_data_dyn.iterrows():\n",
    "            row['prev_con'] = test_data_dyn.loc[index, 'prev_con']\n",
    "            row['prev_con2'] = test_data_dyn.loc[index, 'prev_con2']\n",
    "            row['prev_con3'] = test_data_dyn.loc[index, 'prev_con3']\n",
    "            predicted = prd.predict(row)\n",
    "            test_data_dyn.loc[index, 'spotreba'] = predicted[0]\n",
    "            try:\n",
    "                test_data_dyn.loc[index+1, 'prev_con'] = predicted[0]\n",
    "                test_data_dyn.loc[index+2, 'prev_con2'] = predicted[0]\n",
    "                test_data_dyn.loc[index+2, 'prev_con3'] = predicted[0]\n",
    "            except KeyError:\n",
    "                print('este sa neda')\n",
    "            predicted_day.append(predicted[0])\n",
    "\n",
    "        results.append(prd.eval(np.array(predicted_day), test_data))\n",
    "    \n",
    "helpers.print_evaluations(results)"
   ]
  },
  {
   "cell_type": "code",
   "execution_count": null,
   "metadata": {
    "collapsed": true
   },
   "outputs": [],
   "source": []
  }
 ],
 "metadata": {
  "anaconda-cloud": {},
  "kernelspec": {
   "display_name": "Python [conda root]",
   "language": "python",
   "name": "conda-root-py"
  },
  "language_info": {
   "codemirror_mode": {
    "name": "ipython",
    "version": 3
   },
   "file_extension": ".py",
   "mimetype": "text/x-python",
   "name": "python",
   "nbconvert_exporter": "python",
   "pygments_lexer": "ipython3",
   "version": "3.5.2"
  }
 },
 "nbformat": 4,
 "nbformat_minor": 1
}

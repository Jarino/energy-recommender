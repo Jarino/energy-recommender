{
 "cells": [
  {
   "cell_type": "code",
   "execution_count": 1,
   "metadata": {
    "collapsed": true
   },
   "outputs": [],
   "source": [
    "from datetime import datetime\n",
    "from datetime import timedelta\n",
    "import os\n",
    "\n",
    "import numpy as np\n",
    "import pandas as pd\n",
    "from sklearn import svm\n",
    "from sklearn.ensemble import RandomForestRegressor\n",
    "import matplotlib.pyplot as plt\n",
    "%matplotlib inline\n",
    "\n",
    "from prediction import helpers\n",
    "from prediction.predictor import Predictor\n",
    "import utils.data as dutils"
   ]
  },
  {
   "cell_type": "code",
   "execution_count": 2,
   "metadata": {
    "collapsed": true
   },
   "outputs": [],
   "source": [
    "def load_data(path):\n",
    "    data = pd.read_csv(path)\n",
    "\n",
    "    # first difference\n",
    "    diff = np.diff(data['spotreba'])\n",
    "    data['diff'] = [0,0, *diff[:-1]]\n",
    "\n",
    "    # second difference\n",
    "    diff2 = np.diff(data['spotreba'], n=2)\n",
    "    data['diff2'] = [0, 0, 0, *diff2[:-1]]\n",
    "\n",
    "    # consumption in previous hour\n",
    "    data['prev_con'] = [0, *data['spotreba'][:-1]]\n",
    "\n",
    "    # consumption in pre-previous hour\n",
    "    data['prev_con2'] = [0, 0, *data['spotreba'][:-2]]\n",
    "\n",
    "    data['prev_con3'] = [0, 0, 0,*data['spotreba'][:-3]]\n",
    "    \n",
    "    return data"
   ]
  },
  {
   "cell_type": "markdown",
   "metadata": {},
   "source": [
    "Load dataset, add new feauters upon which we will experiment and split to train and test."
   ]
  },
  {
   "cell_type": "code",
   "execution_count": 3,
   "metadata": {
    "collapsed": false
   },
   "outputs": [],
   "source": [
    "# start day\n",
    "start_day = datetime(2015,1,1)\n",
    "window = timedelta(days=14)\n",
    "eval_days = 365\n",
    "\n",
    "# get list of all user datasets\n",
    "path = '.exports/user_data_joined'\n",
    "user_paths = [os.path.join(path, x) for x in os.listdir(path)]"
   ]
  },
  {
   "cell_type": "markdown",
   "metadata": {},
   "source": [
    "## SVR\n",
    "\n",
    "First of all, lets do the baseline without added features:"
   ]
  },
  {
   "cell_type": "code",
   "execution_count": null,
   "metadata": {
    "collapsed": false
   },
   "outputs": [],
   "source": [
    "prd = Predictor('spotreba', ['month', 'weekday', 'hour'], svm.SVR)\n",
    "\n",
    "results = []\n",
    "\n",
    "\n",
    "for index, user_path in enumerate(user_paths[0:3]):\n",
    "    data = load_data(user_path)\n",
    "    print('Processing user %d' % index)\n",
    "    \n",
    "    for i in range(0, eval_days):\n",
    "        eval_day = start_day + timedelta(days=i)\n",
    "\n",
    "        train_data = dutils.select_range(data, eval_day - window - timedelta(days=1), eval_day - timedelta(days=1))\n",
    "        test_data = dutils.select_range(data, eval_day, eval_day)\n",
    "\n",
    "        prd.train(train_data)\n",
    "\n",
    "        predicted = prd.predict(test_data)\n",
    "\n",
    "        results.append(prd.eval(predicted, test_data))\n",
    "        \n",
    "helpers.print_evaluations(results)"
   ]
  },
  {
   "cell_type": "markdown",
   "metadata": {},
   "source": [
    "## RandomForest"
   ]
  },
  {
   "cell_type": "code",
   "execution_count": 8,
   "metadata": {
    "collapsed": false
   },
   "outputs": [
    {
     "name": "stdout",
     "output_type": "stream",
     "text": [
      "Processing user 0\n",
      "Processing user 1\n",
      "Processing user 2\n",
      "MAPE:\t56.904509,\t45.449332\n",
      "MSE:\t0.656622,\t0.653381\n",
      "RMSE:\t0.706412,\t0.396993\n",
      "MAE:\t0.450946,\t0.268276\n"
     ]
    }
   ],
   "source": [
    "prd = Predictor('spotreba', ['month', 'weekday', 'hour'], RandomForestRegressor, {\n",
    "        'n_estimators': 20,\n",
    "        'max_features': 'log2'\n",
    "    })\n",
    "\n",
    "results = []\n",
    "\n",
    "\n",
    "for index, user_path in enumerate(user_paths[0:3]):\n",
    "    data = load_data(user_path)\n",
    "    print('Processing user %d' % index)\n",
    "    \n",
    "    for i in range(0, eval_days):\n",
    "        eval_day = start_day + timedelta(days=i)\n",
    "\n",
    "        train_data = dutils.select_range(data, eval_day - window - timedelta(days=1), eval_day - timedelta(days=1))\n",
    "        test_data = dutils.select_range(data, eval_day, eval_day)\n",
    "\n",
    "        prd.train(train_data)\n",
    "\n",
    "        predicted = prd.predict(test_data)\n",
    "\n",
    "        results.append(prd.eval(predicted, test_data))\n",
    "        \n",
    "helpers.print_evaluations(results)"
   ]
  },
  {
   "cell_type": "markdown",
   "metadata": {
    "collapsed": true
   },
   "source": [
    "# First difference"
   ]
  },
  {
   "cell_type": "code",
   "execution_count": null,
   "metadata": {
    "collapsed": false
   },
   "outputs": [],
   "source": [
    "prd = Predictor('spotreba', ['month', 'weekday', 'hour', 'diff'])\n",
    "\n",
    "results = []\n",
    "\n",
    "for index, user_path in enumerate(user_paths[0:10]):\n",
    "    data = load_data(user_path)\n",
    "    print('Processing user %d' % index)\n",
    "\n",
    "    for i in range(0, eval_days):\n",
    "        eval_day = start_day + timedelta(days=i)\n",
    "        train_data = dutils.select_range(data, eval_day - window - timedelta(days=1), eval_day - timedelta(days=1))\n",
    "        test_data = dutils.select_range(data, eval_day, eval_day)\n",
    "\n",
    "        prd.train(train_data)\n",
    "\n",
    "        test_data_dyn = test_data.copy()\n",
    "        predicted_day = []\n",
    "\n",
    "        for index, row in test_data_dyn.iterrows():\n",
    "            row['diff'] = test_data_dyn.loc[index, 'diff']\n",
    "            predicted = prd.predict(row)\n",
    "            test_data_dyn.loc[index, 'spotreba'] = predicted[0]\n",
    "            try:\n",
    "                test_data_dyn.loc[index+1, 'diff'] = test_data_dyn.loc[index-1]['spotreba'] - test_data_dyn.loc[index-2]['spotreba']\n",
    "            except KeyError:\n",
    "                pass\n",
    "                #print('este sa neda')\n",
    "            predicted_day.append(predicted[0])\n",
    "\n",
    "        results.append(prd.eval(np.array(predicted_day), test_data))\n",
    "    \n",
    "helpers.print_evaluations(results)"
   ]
  },
  {
   "cell_type": "markdown",
   "metadata": {},
   "source": [
    "# Second difference"
   ]
  },
  {
   "cell_type": "code",
   "execution_count": null,
   "metadata": {
    "collapsed": false
   },
   "outputs": [],
   "source": [
    "prd = Predictor('spotreba', ['month', 'weekday', 'hour', 'diff', 'diff2'])\n",
    "\n",
    "results = []\n",
    "\n",
    "for index, user_path in enumerate(user_paths[0:10]):\n",
    "    data = load_data(user_path)\n",
    "    print('Processing user %d' % index)\n",
    "\n",
    "    for i in range(0, eval_days):\n",
    "        eval_day = start_day + timedelta(days=i)\n",
    "\n",
    "        train_data = dutils.select_range(data, eval_day - window - timedelta(days=1), eval_day - timedelta(days=1))\n",
    "        test_data = dutils.select_range(data, eval_day, eval_day)\n",
    "\n",
    "        prd.train(train_data)\n",
    "\n",
    "        test_data_dyn = test_data.copy()\n",
    "        predicted_day = []\n",
    "\n",
    "        for index, row in test_data_dyn.iterrows():\n",
    "            row['diff'] = test_data_dyn.loc[index, 'diff']\n",
    "            row['diff2'] = test_data_dyn.loc[index, 'diff2']\n",
    "\n",
    "            predicted = prd.predict(row)\n",
    "\n",
    "            test_data_dyn.loc[index, 'spotreba'] = predicted[0]\n",
    "\n",
    "            try:\n",
    "                test_data_dyn.loc[index+1, 'diff'] = test_data_dyn.loc[index-1]['spotreba'] - test_data_dyn.loc[index-2]['spotreba']\n",
    "                test_data_dyn.loc[index+1, 'diff2'] = test_data_dyn.loc[index+1]['diff'] - test_data_dyn.loc[index-2]['spotreba'] - test_data_dyn.loc[index-3]['spotreba']\n",
    "            except KeyError:\n",
    "                #print('este sa neda')\n",
    "                pass\n",
    "            predicted_day.append(predicted[0])\n",
    "\n",
    "        results.append(prd.eval(np.array(predicted_day), test_data))\n",
    "\n",
    "helpers.print_evaluations(results)"
   ]
  },
  {
   "cell_type": "markdown",
   "metadata": {},
   "source": [
    "# Previous hour consumption"
   ]
  },
  {
   "cell_type": "code",
   "execution_count": null,
   "metadata": {
    "collapsed": false
   },
   "outputs": [],
   "source": [
    "prd = Predictor('spotreba',  ['month', 'weekday', 'hour', 'prev_con'])\n",
    "\n",
    "results = []\n",
    "\n",
    "for index, user_path in enumerate(user_paths[0:10]):\n",
    "    data = load_data(user_path)\n",
    "    print('Processing user %d' % index)\n",
    "\n",
    "    for i in range(0, eval_days):\n",
    "        eval_day = start_day + timedelta(days=i)\n",
    "\n",
    "        train_data = dutils.select_range(data, eval_day - window - timedelta(days=1), eval_day - timedelta(days=1))\n",
    "        test_data = dutils.select_range(data, eval_day, eval_day)\n",
    "\n",
    "        prd.train(train_data)\n",
    "\n",
    "        test_data_dyn = test_data.copy()\n",
    "        predicted_day = []\n",
    "\n",
    "        for index, row in test_data_dyn.iterrows():\n",
    "            row['prev_con'] = test_data_dyn.loc[index, 'prev_con']\n",
    "            predicted = prd.predict(row)\n",
    "            test_data_dyn.loc[index, 'spotreba'] = predicted[0]\n",
    "            try:\n",
    "                test_data_dyn.loc[index+1, 'prev_con'] = predicted[0]\n",
    "            except KeyError:\n",
    "                print('este sa neda')\n",
    "            predicted_day.append(predicted[0])\n",
    "\n",
    "        results.append(prd.eval(np.array(predicted_day), test_data))\n",
    "    \n",
    "helpers.print_evaluations(results)"
   ]
  },
  {
   "cell_type": "markdown",
   "metadata": {},
   "source": [
    "# Previous 2 hours consumption"
   ]
  },
  {
   "cell_type": "code",
   "execution_count": null,
   "metadata": {
    "collapsed": false
   },
   "outputs": [],
   "source": [
    "prd = Predictor('spotreba',  ['month', 'weekday', 'hour', 'prev_con', 'prev_con2'])\n",
    "\n",
    "results = []\n",
    "\n",
    "\n",
    "for index, user_path in enumerate(user_paths[0:10]):\n",
    "    data = load_data(user_path)\n",
    "    print('Processing user %d' % index)\n",
    "\n",
    "\n",
    "    for i in range(0, eval_days):\n",
    "        eval_day = start_day + timedelta(days=i)\n",
    "\n",
    "        train_data = dutils.select_range(data, eval_day - window - timedelta(days=1), eval_day - timedelta(days=1))\n",
    "        test_data = dutils.select_range(data, eval_day, eval_day)\n",
    "\n",
    "        prd.train(train_data)\n",
    "\n",
    "        test_data_dyn = test_data.copy()\n",
    "        predicted_day = []\n",
    "\n",
    "        for index, row in test_data_dyn.iterrows():\n",
    "            row['prev_con'] = test_data_dyn.loc[index, 'prev_con']\n",
    "            row['prev_con2'] = test_data_dyn.loc[index, 'prev_con2']\n",
    "            predicted = prd.predict(row)\n",
    "            test_data_dyn.loc[index, 'spotreba'] = predicted[0]\n",
    "            try:\n",
    "                test_data_dyn.loc[index+1, 'prev_con'] = predicted[0]\n",
    "                test_data_dyn.loc[index+2, 'prev_con2'] = predicted[0]\n",
    "            except KeyError:\n",
    "                print('este sa neda')\n",
    "            predicted_day.append(predicted[0])\n",
    "\n",
    "        results.append(prd.eval(np.array(predicted_day), test_data))\n",
    "    \n",
    "helpers.print_evaluations(results)"
   ]
  },
  {
   "cell_type": "code",
   "execution_count": null,
   "metadata": {
    "collapsed": false
   },
   "outputs": [],
   "source": [
    "prd = Predictor('spotreba',  ['month', 'weekday', 'hour', 'prev_con', 'prev_con2', 'prev_con3'])\n",
    "\n",
    "results = []\n",
    "\n",
    "for index, user_path in enumerate(user_paths[0:10]):\n",
    "    data = load_data(user_path)\n",
    "    print('Processing user %d' % index)\n",
    "\n",
    "    for i in range(0, eval_days):\n",
    "        eval_day = start_day + timedelta(days=i)\n",
    "\n",
    "        train_data = dutils.select_range(data, eval_day - window - timedelta(days=1), eval_day - timedelta(days=1))\n",
    "        test_data = dutils.select_range(data, eval_day, eval_day)\n",
    "\n",
    "        prd.train(train_data)\n",
    "\n",
    "        test_data_dyn = test_data.copy()\n",
    "        predicted_day = []\n",
    "\n",
    "        for index, row in test_data_dyn.iterrows():\n",
    "            row['prev_con'] = test_data_dyn.loc[index, 'prev_con']\n",
    "            row['prev_con2'] = test_data_dyn.loc[index, 'prev_con2']\n",
    "            row['prev_con3'] = test_data_dyn.loc[index, 'prev_con3']\n",
    "            predicted = prd.predict(row)\n",
    "            test_data_dyn.loc[index, 'spotreba'] = predicted[0]\n",
    "            try:\n",
    "                test_data_dyn.loc[index+1, 'prev_con'] = predicted[0]\n",
    "                test_data_dyn.loc[index+2, 'prev_con2'] = predicted[0]\n",
    "                test_data_dyn.loc[index+2, 'prev_con3'] = predicted[0]\n",
    "            except KeyError:\n",
    "                print('este sa neda')\n",
    "            predicted_day.append(predicted[0])\n",
    "\n",
    "        results.append(prd.eval(np.array(predicted_day), test_data))\n",
    "    \n",
    "helpers.print_evaluations(results)"
   ]
  },
  {
   "cell_type": "code",
   "execution_count": null,
   "metadata": {
    "collapsed": true
   },
   "outputs": [],
   "source": []
  }
 ],
 "metadata": {
  "kernelspec": {
   "display_name": "Python [conda root]",
   "language": "python",
   "name": "conda-root-py"
  },
  "language_info": {
   "codemirror_mode": {
    "name": "ipython",
    "version": 3
   },
   "file_extension": ".py",
   "mimetype": "text/x-python",
   "name": "python",
   "nbconvert_exporter": "python",
   "pygments_lexer": "ipython3",
   "version": "3.5.2"
  }
 },
 "nbformat": 4,
 "nbformat_minor": 1
}

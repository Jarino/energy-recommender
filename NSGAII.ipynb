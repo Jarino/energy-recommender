{
 "cells": [
  {
   "cell_type": "markdown",
   "metadata": {},
   "source": [
    "# NSGA-II príklad\n",
    "\n",
    "Zdrojový kód príkladu prevzatý z [Github repozitára](https://github.com/DEAP/deap/blob/master/examples/ga/nsga2.py)."
   ]
  },
  {
   "cell_type": "code",
   "execution_count": 1,
   "metadata": {
    "collapsed": true
   },
   "outputs": [],
   "source": [
    "import array\n",
    "import random\n",
    "import json\n",
    "\n",
    "import numpy as np\n",
    "import matplotlib.pyplot as plt\n",
    "import seaborn as sns\n",
    "%matplotlib inline\n",
    "\n",
    "from math import sqrt\n",
    "\n",
    "from deap import algorithms\n",
    "from deap import base\n",
    "from deap import benchmarks\n",
    "from deap.benchmarks.tools import diversity, convergence, hypervolume\n",
    "from deap import creator\n",
    "from deap import tools"
   ]
  },
  {
   "cell_type": "markdown",
   "metadata": {},
   "source": [
    "Pomocou akejsi DEAP meta factory vytvoríme dva objekty:\n",
    "\n",
    "- FitnessMin, ktorý reprezentuje fitness jedinca s váhami pre jednotlivé účelové funkcie\n",
    "- Individual, ktorý reprezentuje jedinca s určitým fitness.\n",
    "\n",
    "Prvý argument je názov triedy, ktorú ideme vytvárať, druhý argument je trieda, od ktorej dedí. V prípade `Individual` triedy je to pole z `array` modulu, ale vystačili by sme si pravdepodobne aj s obyčajným `list`.\n",
    "\n",
    "Všetky ostatné argumenty sú potom atribúty danej triedy."
   ]
  },
  {
   "cell_type": "code",
   "execution_count": 2,
   "metadata": {
    "collapsed": true
   },
   "outputs": [],
   "source": [
    "creator.create(\"FitnessMin\", base.Fitness, weights=(-1.0, -1.0))\n",
    "creator.create(\"Individual\", array.array, typecode='d', fitness=creator.FitnessMin)"
   ]
  },
  {
   "cell_type": "markdown",
   "metadata": {},
   "source": [
    "*TODO: doplniť opis*"
   ]
  },
  {
   "cell_type": "code",
   "execution_count": 9,
   "metadata": {
    "collapsed": true
   },
   "outputs": [],
   "source": [
    "# Problem definition\n",
    "# Functions zdt1, zdt2, zdt3, zdt6 have bounds [0, 1]\n",
    "BOUND_LOW, BOUND_UP = 0.0, 1.0\n",
    "\n",
    "# Functions zdt4 has bounds x1 = [0, 1], xn = [-5, 5], with n = 2, ..., 10\n",
    "# BOUND_LOW, BOUND_UP = [0.0] + [-5.0]*9, [1.0] + [5.0]*9\n",
    "\n",
    "# Functions zdt1, zdt2, zdt3 have 30 dimensions, zdt4 and zdt6 have 10\n",
    "NDIM = 2\n",
    "\n",
    "def uniform(low, up, size=None):\n",
    "    try:\n",
    "        return [random.uniform(a, b) for a, b in zip(low, up)]\n",
    "    except TypeError:\n",
    "        return [random.uniform(a, b) for a, b in zip([low] * size, [up] * size)]"
   ]
  },
  {
   "cell_type": "markdown",
   "metadata": {},
   "source": [
    "V ďalšej fáze sa obšírne používa metóda [`register`](http://deap.readthedocs.io/en/master/api/base.html#deap.base.Toolbox.register), ktorá funguje podobne ako `creator.create`, ale nevytvára triedy, ale funkcie, pričom:\n",
    "\n",
    "- prvý argument je alias danej funkcie (ktorá potom bude prístupná v `toolbox`),\n",
    "- druhý je samotná funkcia,\n",
    "- všetky ostatné sú argumenty danej funkcie. Je možné zadať rovno všetky argumenty, ako je to v prípade `attr_float`, alebo je možné zadať len potrebné, s tým že ostatné sa doplnia priamo pri volaní metódy z toolboxu (ako v prípade `population`).\n",
    "\n",
    "\n",
    "[`initRepeat`](http://deap.readthedocs.io/en/master/api/tools.html#deap.tools.initRepeat) a [`initIterate`](http://deap.readthedocs.io/en/master/api/tools.html#deap.tools.initIterate) sú podobné metódy, pomocou ktorých sa dá dosiahnúť to isté, len iným spôsobom.\n",
    "\n",
    "Zvyšné sú potom už len evolučné operátory [kríženia](http://deap.readthedocs.io/en/master/api/tools.html#deap.tools.cxSimulatedBinaryBounded), [mutácie](http://deap.readthedocs.io/en/master/api/tools.html#deap.tools.mutPolynomialBounded) a [selekcie](http://deap.readthedocs.io/en/master/api/tools.html#deap.tools.selNSGA2), konkrétne pre algoritmus NSGA-II.\n",
    "\n",
    "**To čo mňa najviac trápi** je v podstate iba `evaluate` funkcia, zaregistrovaná v toolboxe tu, nižšie (`benchmarks.zdt1`). Podľa všetkého tam treba iba šupnúť nejakú funkciu, ktorá vráti `tuple` funkčných hodnôť (jedna bude teda pre cenu energie, druhá bude MAPE)."
   ]
  },
  {
   "cell_type": "code",
   "execution_count": 83,
   "metadata": {
    "collapsed": false
   },
   "outputs": [],
   "source": [
    "toolbox = base.Toolbox()\n",
    "    \n",
    "toolbox.register(\"attr_float\", uniform, BOUND_LOW, BOUND_UP, NDIM)\n",
    "toolbox.register(\"individual\", tools.initIterate, creator.Individual, toolbox.attr_float)\n",
    "toolbox.register(\"population\", tools.initRepeat, list, toolbox.individual)\n",
    "\n",
    "toolbox.register(\"evaluate\", benchmarks.zdt1)\n",
    "# tieto by sme v podstate ani nemuseli registrovat, teoreticky by sme to v hlavnom cykle vedeli\n",
    "# rovno s pouzitim metod z tools modulu, toto je v podstate len pre pohodlnost,\n",
    "# aby sme nemuseli v tych volaniach stale dookola pisat aj BOUND_LOW/UP, eta a pod.\n",
    "toolbox.register(\"mate\", tools.cxSimulatedBinaryBounded, low=BOUND_LOW, up=BOUND_UP, eta=20.0)\n",
    "toolbox.register(\"mutate\", tools.mutPolynomialBounded, low=BOUND_LOW, up=BOUND_UP, eta=20.0, indpb=1.0/NDIM)\n",
    "\n",
    "# toto je trochu ofajc, nepouziva sa to naozaj na selekciu, ale na zoradenie podla stupna frontu:\n",
    "# http://deap.readthedocs.io/en/master/api/tools.html#deap.tools.selNSGA2\n",
    "# prvy argument je populacia z ktorej ideme vyberat, druhy argument je pocet jedincov, ktore chceme vybrat\n",
    "# ak je pocet jedincov ktore chceme vybrat rovnaky ako pocet jedincov v generacii, vrati vsetkych, akurat\n",
    "# zoradenych\n",
    "toolbox.register(\"select\", tools.selNSGA2)"
   ]
  },
  {
   "cell_type": "markdown",
   "metadata": {},
   "source": [
    "Hlavný cyklus algoritmu, používa sa tam metóda [selekcie pre NSGA-II](http://deap.readthedocs.io/en/master/api/tools.html#deap.tools.selTournamentDCD)."
   ]
  },
  {
   "cell_type": "code",
   "execution_count": 63,
   "metadata": {
    "collapsed": true
   },
   "outputs": [],
   "source": [
    "def main(seed=None, gens=100):\n",
    "    random.seed(seed)\n",
    "\n",
    "    \n",
    "    NGEN = gens  # pocet generacii\n",
    "    MU = 100    # pocet jedincov v populacii\n",
    "    CXPB = 0.9  # pravdepodobnost krizenia?\n",
    "\n",
    "    stats = tools.Statistics(lambda ind: ind.fitness.values)    \n",
    "    # stats.register(\"avg\", numpy.mean, axis=0)\n",
    "    # stats.register(\"std\", numpy.std, axis=0)\n",
    "    stats.register(\"min\", numpy.min, axis=0)\n",
    "    stats.register(\"max\", numpy.max, axis=0)\n",
    "   \n",
    "    logbook = tools.Logbook()\n",
    "    logbook.header = \"gen\", \"evals\", \"std\", \"min\", \"avg\", \"max\"\n",
    " \n",
    "    # vytvorime inicialnu populaciu\n",
    "    pop = toolbox.population(n=MU)\n",
    "\n",
    "    # Evaluate the individuals with an invalid fitness\n",
    "    invalid_ind = [ind for ind in pop if not ind.fitness.valid]\n",
    "    fitnesses = toolbox.map(toolbox.evaluate, invalid_ind)\n",
    "    for ind, fit in zip(invalid_ind, fitnesses):\n",
    "        ind.fitness.values = fit\n",
    "\n",
    "    # This is just to assign the crowding distance to the individuals\n",
    "    # no actual selection is done\n",
    "    pop = toolbox.select(pop, len(pop))\n",
    "    record = stats.compile(pop)\n",
    "    logbook.record(gen=0, evals=len(invalid_ind), **record)\n",
    "    #print(logbook.stream)\n",
    "\n",
    "    # Begin the generational process\n",
    "    for gen in range(1, NGEN):\n",
    "        # Vary the population\n",
    "        offspring = tools.selTournamentDCD(pop, len(pop))\n",
    "        offspring = [toolbox.clone(ind) for ind in offspring]\n",
    "\n",
    "        for ind1, ind2 in zip(offspring[::2], offspring[1::2]):\n",
    "            if random.random() <= CXPB:\n",
    "                toolbox.mate(ind1, ind2)            \n",
    "\n",
    "            toolbox.mutate(ind1)\n",
    "            toolbox.mutate(ind2)\n",
    "            del ind1.fitness.values, ind2.fitness.values\n",
    "\n",
    "        # Evaluate the individuals with an invalid fitness\n",
    "        invalid_ind = [ind for ind in offspring if not ind.fitness.valid]\n",
    "        fitnesses = toolbox.map(toolbox.evaluate, invalid_ind)\n",
    "        for ind, fit in zip(invalid_ind, fitnesses):\n",
    "            ind.fitness.values = fit\n",
    "\n",
    "        # Select the next generation population\n",
    "        pop = toolbox.select(pop + offspring, MU)\n",
    "        record = stats.compile(pop)\n",
    "        logbook.record(gen=gen, evals=len(invalid_ind), **record)\n",
    "        #print(logbook.stream)\n",
    "\n",
    "    print(\"Final population hypervolume is %f\" % hypervolume(pop, [11.0, 11.0]))\n",
    "\n",
    "    return pop, logbook"
   ]
  },
  {
   "cell_type": "code",
   "execution_count": 86,
   "metadata": {
    "collapsed": false,
    "scrolled": false
   },
   "outputs": [
    {
     "name": "stdout",
     "output_type": "stream",
     "text": [
      "Final population hypervolume is 120.660749\n"
     ]
    },
    {
     "data": {
      "image/png": "[encoded data removed]",
      "text/plain": [
       "<matplotlib.figure.Figure at 0x21f9379d588>"
      ]
     },
     "metadata": {},
     "output_type": "display_data"
    }
   ],
   "source": [
    "pop, logbook = main(gens=100)"
   ]
  },
  {
   "cell_type": "code",
   "execution_count": 92,
   "metadata": {
    "collapsed": false
   },
   "outputs": [
    {
     "data": {
      "image/png": "[encoded data removed]",
      "text/plain": [
       "<matplotlib.figure.Figure at 0x21f94ca2908>"
      ]
     },
     "metadata": {},
     "output_type": "display_data"
    }
   ],
   "source": [
    "pop = np.array(pop)\n",
    "f_values = np.array([toolbox.evaluate(x) for x in pop])\n",
    "plt.scatter(f_values[:,0], f_values[:,1])\n",
    "plt.title('ZDT1 Pareto front')\n",
    "plt.xlabel('$f(x)$')\n",
    "plt.ylabel('$f(y)$')\n",
    "plt.savefig('zdt1-pf')"
   ]
  },
  {
   "cell_type": "code",
   "execution_count": 93,
   "metadata": {
    "collapsed": false
   },
   "outputs": [
    {
     "name": "stdout",
     "output_type": "stream",
     "text": [
      "Help on function hypervolume in module deap.benchmarks.tools:\n",
      "\n",
      "hypervolume(front, ref=None)\n",
      "    Return the hypervolume of a *front*. If the *ref* point is not\n",
      "    given, the worst value for each objective +1 is used.\n",
      "    \n",
      "    :param front: The population (usually a list of undominated individuals)\n",
      "                  on which to compute the hypervolume.\n",
      "    :param ref: A point of the same dimensionality as the individuals in *front*.\n",
      "\n"
     ]
    }
   ],
   "source": [
    "help(hypervolume)"
   ]
  },
  {
   "cell_type": "code",
   "execution_count": null,
   "metadata": {
    "collapsed": true
   },
   "outputs": [],
   "source": []
  }
 ],
 "metadata": {
  "anaconda-cloud": {},
  "kernelspec": {
   "display_name": "Python [conda root]",
   "language": "python",
   "name": "conda-root-py"
  },
  "language_info": {
   "codemirror_mode": {
    "name": "ipython",
    "version": 3
   },
   "file_extension": ".py",
   "mimetype": "text/x-python",
   "name": "python",
   "nbconvert_exporter": "python",
   "pygments_lexer": "ipython3",
   "version": "3.5.2"
  }
 },
 "nbformat": 4,
 "nbformat_minor": 1
}
